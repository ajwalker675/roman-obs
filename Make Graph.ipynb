{
 "cells": [
  {
   "cell_type": "code",
   "execution_count": null,
   "id": "fc66c3b3-2976-4547-9e8b-460f5378cd68",
   "metadata": {},
   "outputs": [],
   "source": [
    "import numpy as np\n",
    "import pandas as pd\n",
    "import healpy as hp\n",
    "import matplotlib\n",
    "from matplotlib import pyplot as plt"
   ]
  },
  {
   "cell_type": "code",
   "execution_count": null,
   "id": "60ae9fda-0e54-48ba-80f6-dd98367033e3",
   "metadata": {},
   "outputs": [],
   "source": [
    "#Change this for each of the filters\n",
    "df = pd.read_csv('Z087_files_data.csv')"
   ]
  },
  {
   "cell_type": "code",
   "execution_count": null,
   "id": "35a26dae-24d6-4dc3-9cfa-803c726b323a",
   "metadata": {},
   "outputs": [],
   "source": [
    "def get_vertices(df, index):\n",
    "    '''\n",
    "    Function to convert ra and dec values into vectors compatible with healpy\n",
    "    Inputs: The dataframe and the index value of the row corresponding to the SCA that will be plotted.\n",
    "    Outputs: An array of vertices in the form of vectors for each corner of the SCA.\n",
    "    '''\n",
    "    ra1 = df['RA1'][index]\n",
    "    ra2 = df['RA2'][index]\n",
    "    ra3 = df['RA3'][index]\n",
    "    ra4 = df['RA4'][index]\n",
    "    dec1 = df['DEC1'][index]\n",
    "    dec2 = df['DEC2'][index]\n",
    "    dec3 = df['DEC3'][index]\n",
    "    dec4 = df['DEC4'][index]\n",
    "    def ra_dec_to_theta_phi(ra, dec):\n",
    "        ra_rad = np.radians(ra)\n",
    "        dec_rad = np.radians(dec)\n",
    "        theta = np.pi / 2 - dec_rad\n",
    "        phi = ra_rad\n",
    "        return theta, phi\n",
    "    theta1, phi1 = ra_dec_to_theta_phi(ra1, dec1)\n",
    "    theta2, phi2 = ra_dec_to_theta_phi(ra2, dec2)\n",
    "    theta3, phi3 = ra_dec_to_theta_phi(ra3, dec3)\n",
    "    theta4, phi4 = ra_dec_to_theta_phi(ra4, dec4)\n",
    "    vec1 = hp.ang2vec(theta1, phi1)\n",
    "    vec2 = hp.ang2vec(theta2, phi2)\n",
    "    vec3 = hp.ang2vec(theta3, phi3)\n",
    "    vec4 = hp.ang2vec(theta4, phi4)\n",
    "    vertices = np.array([vec1, vec2, vec3, vec4])\n",
    "    return vertices"
   ]
  },
  {
   "cell_type": "code",
   "execution_count": null,
   "id": "959c8e13-be35-44b0-86f2-cb7379494593",
   "metadata": {},
   "outputs": [],
   "source": [
    "obs_rows = df.index\n",
    "\n",
    "NSIDE = 4096\n",
    "NPIX  = hp.nside2npix(NSIDE)\n",
    "ipix_box_list = []\n",
    "for index in obs_rows:\n",
    "    vertices = get_vertices(index)\n",
    "    ipix_box_single = hp.query_polygon(nside=NSIDE, vertices=vertices, inclusive=False)\n",
    "    ipix_box_list.append(ipix_box_single)\n",
    "ipix_box = np.concatenate(ipix_box_list)\n",
    "rot = [9.7, -44]\n",
    "m = np.zeros(hp.nside2npix(NSIDE))\n",
    "counts = np.bincount(ipix_box, minlength=len(m))\n",
    "m[:len(counts)] = counts\n",
    "#get only the 2-d array for the projected map\n",
    "array = hp.gnomview(m, rot=rot,title=\"Sky Location of Roman Pictures-Z087 Band\", reso = 1.6, xsize = 200, return_projected_map = True, no_plot=True)"
   ]
  },
  {
   "cell_type": "code",
   "execution_count": null,
   "id": "9c5b83c6-ecce-4d56-ab1d-44313ddb864f",
   "metadata": {},
   "outputs": [],
   "source": [
    "diagonal = np.array([]) #get the diagonal entries of the 2-d array\n",
    "for i in range(200):\n",
    "    entry = array[i, i]\n",
    "    diagonal = np.append(entry, diagonal)"
   ]
  },
  {
   "cell_type": "code",
   "execution_count": null,
   "id": "ecc76c69-b6ed-4059-9d44-7a089221f861",
   "metadata": {},
   "outputs": [],
   "source": [
    "diagonal = diagonal[diagonal != 0] #drop the zeros to just include where the exposure map has SCAs"
   ]
  },
  {
   "cell_type": "code",
   "execution_count": null,
   "id": "1983dea0-8bad-4aa6-8606-a42034dfd9ab",
   "metadata": {},
   "outputs": [],
   "source": [
    "#RA1 is on the top right corner of an SCA and RA4 is on the top left corner of an SCA. In the gnomview, increasing goes from right to left."
   ]
  },
  {
   "cell_type": "code",
   "execution_count": null,
   "id": "e545fb8f-44a4-48fb-8eda-271650c93c70",
   "metadata": {},
   "outputs": [],
   "source": [
    "ra1s = df['RA1'].values"
   ]
  },
  {
   "cell_type": "code",
   "execution_count": null,
   "id": "63794323-b183-4f77-988d-a8ea3164f5a5",
   "metadata": {},
   "outputs": [],
   "source": [
    "ra4s = df['RA4'].values"
   ]
  },
  {
   "cell_type": "code",
   "execution_count": null,
   "id": "4011bdaf-a1ae-4f5d-9bc8-8b2af2cd6cb6",
   "metadata": {},
   "outputs": [],
   "source": [
    "ramin = np.min(ra1s)"
   ]
  },
  {
   "cell_type": "code",
   "execution_count": null,
   "id": "904c7339-b4ee-4a3f-b25b-362373f64c65",
   "metadata": {},
   "outputs": [],
   "source": [
    "ramax = np.max(ra4s)"
   ]
  },
  {
   "cell_type": "code",
   "execution_count": null,
   "id": "5cc580ff-d81c-4ebb-9d69-ffa895da87c4",
   "metadata": {},
   "outputs": [],
   "source": [
    "xdata = np.linspace(ramin, ramax, 139) #range of ra values for the entire exposure map"
   ]
  },
  {
   "cell_type": "code",
   "execution_count": null,
   "id": "5fe02ef4-3588-432c-88a2-84f054d4b955",
   "metadata": {},
   "outputs": [],
   "source": [
    "centers = df['MAJOR ROT AXS- RA'].values #center of the exposure map\n",
    "center_ra = centers[0]\n",
    "center_ra"
   ]
  },
  {
   "cell_type": "code",
   "execution_count": null,
   "id": "888220d5-f2ce-48ff-8640-ca03773e0e2b",
   "metadata": {},
   "outputs": [],
   "source": [
    "plt.figure(figsize=(10, 5))\n",
    "plt.plot(xdata, diagonal)\n",
    "plt.axvline(x=center_ra, color='r', linestyle='--', label='Center of Exposure Map') #plot a vertical line to show the ra value of the center of the exposure map.\n",
    "plt.title('Distribution of SCAs')\n",
    "plt.xlabel('RA')\n",
    "plt.ylabel('Number of SCAs')\n",
    "plt.legend()\n",
    "plt.grid(True)\n",
    "plt.show()"
   ]
  }
 ],
 "metadata": {
  "kernelspec": {
   "display_name": "Python 3 (ipykernel)",
   "language": "python",
   "name": "python3"
  },
  "language_info": {
   "codemirror_mode": {
    "name": "ipython",
    "version": 3
   },
   "file_extension": ".py",
   "mimetype": "text/x-python",
   "name": "python",
   "nbconvert_exporter": "python",
   "pygments_lexer": "ipython3",
   "version": "3.10.14"
  }
 },
 "nbformat": 4,
 "nbformat_minor": 5
}
