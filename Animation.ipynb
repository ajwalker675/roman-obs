{
 "cells": [
  {
   "cell_type": "code",
   "execution_count": 1,
   "id": "01ea2fa9-493e-432b-a52c-696ed96bf14f",
   "metadata": {},
   "outputs": [],
   "source": [
    "import numpy as np\n",
    "import matplotlib.pyplot as plt\n",
    "import os\n",
    "from matplotlib.animation import FuncAnimation\n",
    "import imageio"
   ]
  },
  {
   "cell_type": "code",
   "execution_count": 18,
   "id": "51cfe33a-3c26-4fbf-9310-00a30a67b56a",
   "metadata": {},
   "outputs": [],
   "source": [
    "frames = []\n",
    "for i in range(1, 298, 2):\n",
    "    image = imageio.v2.imread(f'/mnt/c/Users/alexj/Downloads/J129_pics/J129_plot_{i}.png')\n",
    "    frames.append(image)"
   ]
  },
  {
   "cell_type": "code",
   "execution_count": 19,
   "id": "4ca6a82f-4ca1-4897-a01b-b02d1482796a",
   "metadata": {},
   "outputs": [
    {
     "name": "stderr",
     "output_type": "stream",
     "text": [
      "IMAGEIO FFMPEG_WRITER WARNING: input image is not divisible by macro_block_size=16, resizing from (580, 640) to (592, 640) to ensure video compatibility with most codecs and players. To prevent resizing, make your input image divisible by the macro_block_size or set the macro_block_size to 1 (risking incompatibility).\n"
     ]
    }
   ],
   "source": [
    "output_video = 'output_video.mp4'\n",
    "fps = 1\n",
    "imageio.mimsave(output_video, frames, fps=fps)"
   ]
  },
  {
   "cell_type": "code",
   "execution_count": 20,
   "id": "0a92f69f-2bcc-408e-ba74-ee88e9c81df0",
   "metadata": {},
   "outputs": [],
   "source": [
    "frames = []\n",
    "for i in range(1, 298, 2):\n",
    "    image = imageio.v2.imread(f'/mnt/c/Users/alexj/Downloads/J129_pics_single_obs/J129_plot_{i}.png')\n",
    "    frames.append(image)"
   ]
  },
  {
   "cell_type": "code",
   "execution_count": 21,
   "id": "a7dd758c-509c-4704-845b-748cb74aca8e",
   "metadata": {},
   "outputs": [
    {
     "name": "stderr",
     "output_type": "stream",
     "text": [
      "IMAGEIO FFMPEG_WRITER WARNING: input image is not divisible by macro_block_size=16, resizing from (580, 640) to (592, 640) to ensure video compatibility with most codecs and players. To prevent resizing, make your input image divisible by the macro_block_size or set the macro_block_size to 1 (risking incompatibility).\n"
     ]
    }
   ],
   "source": [
    "output_video = 'output_video2.mp4'\n",
    "fps = 1\n",
    "imageio.mimsave(output_video, frames, fps=fps)"
   ]
  },
  {
   "cell_type": "code",
   "execution_count": 5,
   "id": "88aabfa2-00aa-4cd9-a066-088f5362e54a",
   "metadata": {},
   "outputs": [],
   "source": [
    "frames = []\n",
    "for i in range(1, 147):\n",
    "    image = imageio.v2.imread(f'/mnt/c/Users/alexj/Downloads/R062 images/R062_plot_{i}.png')\n",
    "    frames.append(image)"
   ]
  },
  {
   "cell_type": "code",
   "execution_count": 6,
   "id": "044da7b7-3e9d-42bf-8d9b-6dccc971f7b2",
   "metadata": {},
   "outputs": [
    {
     "name": "stderr",
     "output_type": "stream",
     "text": [
      "IMAGEIO FFMPEG_WRITER WARNING: input image is not divisible by macro_block_size=16, resizing from (580, 640) to (592, 640) to ensure video compatibility with most codecs and players. To prevent resizing, make your input image divisible by the macro_block_size or set the macro_block_size to 1 (risking incompatibility).\n"
     ]
    }
   ],
   "source": [
    "output_video = 'R062_video.mp4'\n",
    "fps = 1\n",
    "imageio.mimsave(output_video, frames, fps=fps)"
   ]
  },
  {
   "cell_type": "code",
   "execution_count": null,
   "id": "0fc10363-8937-48a3-9f09-1bdc1ffbc549",
   "metadata": {},
   "outputs": [],
   "source": []
  }
 ],
 "metadata": {
  "kernelspec": {
   "display_name": "Python 3 (ipykernel)",
   "language": "python",
   "name": "python3"
  },
  "language_info": {
   "codemirror_mode": {
    "name": "ipython",
    "version": 3
   },
   "file_extension": ".py",
   "mimetype": "text/x-python",
   "name": "python",
   "nbconvert_exporter": "python",
   "pygments_lexer": "ipython3",
   "version": "3.10.14"
  }
 },
 "nbformat": 4,
 "nbformat_minor": 5
}
