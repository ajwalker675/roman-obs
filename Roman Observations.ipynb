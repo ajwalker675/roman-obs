{
 "cells": [
  {
   "cell_type": "markdown",
   "id": "b58881c3-1906-419c-9621-6fb39119083c",
   "metadata": {},
   "source": [
    "This file is used to generate a pandas dataframe that contains the corner coordinates of each SCA in a footprint for an new observing strategy. It relies partly on some of the data from the simulation contained on DCC, which can be found in the file 'simple_model_images_files_data.csv.' This file can be used to generate an observing strategy for the following filters: R, Z, J, H, F, K. It cannot be used for the Y filter due to the nature of the simulation data on DCC. There is a separate file for this filter. Some cells will need to be changed depending on the filter. These will be indicated with a markdown cell above them. The value that it needs to be changed to will be in a comment in the cell. I recommend resetting the kernel after each filter, to prevent accidentally reusing variables. "
   ]
  },
  {
   "cell_type": "markdown",
   "id": "4b984001-90cb-4354-85a4-c46a040d788f",
   "metadata": {},
   "source": [
    "Note on vocabulary used: \n",
    "- Pointing/Exposure: The group of 18 SCAs\n",
    "- Footprint: The arrangement of many pointings for each observation day."
   ]
  },
  {
   "cell_type": "code",
   "execution_count": null,
   "id": "15e3bd62-0e54-4dde-b26a-e2a7df5a6aa1",
   "metadata": {},
   "outputs": [],
   "source": [
    "import numpy as np\n",
    "import pandas as pd\n",
    "import healpy as hp\n",
    "import matplotlib\n",
    "from matplotlib import pyplot as plt"
   ]
  },
  {
   "cell_type": "code",
   "execution_count": 2,
   "id": "2c7ceb37-075e-4f24-9c19-c098409933d5",
   "metadata": {},
   "outputs": [],
   "source": [
    "#simulation data from DCC fits files\n",
    "og_df = pd.read_csv('simple_model_images_files_data.csv')"
   ]
  },
  {
   "cell_type": "markdown",
   "id": "20178f43-a0ca-4b63-9068-a045add1adef",
   "metadata": {},
   "source": [
    "**Change the number here.**"
   ]
  },
  {
   "cell_type": "code",
   "execution_count": 3,
   "id": "82f2d5ed-5d1a-439a-9318-bcbb22f40e27",
   "metadata": {},
   "outputs": [],
   "source": [
    "df = og_df[(og_df['POINTING'] == 330)]\n",
    "#R: 0\n",
    "#Z: 55\n",
    "#J: 165\n",
    "#H: 220\n",
    "#F: 275\n",
    "#K: 330"
   ]
  },
  {
   "cell_type": "code",
   "execution_count": 4,
   "id": "3554ba17-f2d7-4006-95d1-1aacc52264d9",
   "metadata": {},
   "outputs": [],
   "source": [
    "def get_vertices(df, index):\n",
    "    '''\n",
    "    Function to convert ra and dec values into vectors compatible with healpy\n",
    "    Inputs: The dataframe and the index value of the row corresponding to the SCA that will be plotted.\n",
    "    Outputs: An array of vertices in the form of vectors for each corner of the SCA.\n",
    "    '''\n",
    "    ra1 = df['RA1'][index]\n",
    "    ra2 = df['RA2'][index]\n",
    "    ra3 = df['RA3'][index]\n",
    "    ra4 = df['RA4'][index]\n",
    "    dec1 = df['DEC1'][index]\n",
    "    dec2 = df['DEC2'][index]\n",
    "    dec3 = df['DEC3'][index]\n",
    "    dec4 = df['DEC4'][index]\n",
    "    def ra_dec_to_theta_phi(ra, dec):\n",
    "        ra_rad = np.radians(ra)\n",
    "        dec_rad = np.radians(dec)\n",
    "        theta = np.pi / 2 - dec_rad\n",
    "        phi = ra_rad\n",
    "        return theta, phi\n",
    "    theta1, phi1 = ra_dec_to_theta_phi(ra1, dec1)\n",
    "    theta2, phi2 = ra_dec_to_theta_phi(ra2, dec2)\n",
    "    theta3, phi3 = ra_dec_to_theta_phi(ra3, dec3)\n",
    "    theta4, phi4 = ra_dec_to_theta_phi(ra4, dec4)\n",
    "    vec1 = hp.ang2vec(theta1, phi1)\n",
    "    vec2 = hp.ang2vec(theta2, phi2)\n",
    "    vec3 = hp.ang2vec(theta3, phi3)\n",
    "    vec4 = hp.ang2vec(theta4, phi4)\n",
    "    vertices = np.array([vec1, vec2, vec3, vec4])\n",
    "    return vertices"
   ]
  },
  {
   "cell_type": "code",
   "execution_count": 5,
   "id": "1e1f129e-8f59-434d-bc6a-19fe76988142",
   "metadata": {},
   "outputs": [],
   "source": [
    "NSIDE = 4096\n",
    "NPIX  = hp.nside2npix(NSIDE)"
   ]
  },
  {
   "cell_type": "code",
   "execution_count": 6,
   "id": "7f471eb7-20a5-4899-b91b-9d9e0d8fd8e0",
   "metadata": {},
   "outputs": [],
   "source": [
    "def translate_squares(df, shift=0.01, upward_repetitions=1, left_translation=True, downward_repetitions=1):\n",
    "    \"\"\"\n",
    "    Function to create the tiling of the footprint, following the snake pattern outlined in (Wang et al., 2023). It works left to right if visualized using healpy gnomview(). \n",
    "    Arguments:\n",
    "        df: Must be a dataframe that contains only one pointing (only 18 rows). Contains columns RA{i} and DEC{i} for the 4 corner coordinates of every SCA.\n",
    "        shift: change this value to alter the spacing between rows of pointings. (Increase it and the space between decreases and vice versa.)\n",
    "        upward_repetitions: One less than the number of desired rows\n",
    "        left translation: True if another column is desired.\n",
    "        downward_repetitions: One less than the number of desired rows\n",
    "    Output: Original dataframe with the rows corresponding to the new pointings appended to the end.\n",
    "    \n",
    "    \"\"\"\n",
    "    # Step 1: Identify the bounding box\n",
    "    single_pointing = df.tail(18)\n",
    "    min_dec = single_pointing[['DEC1', 'DEC2', 'DEC3', 'DEC4']].min().min()\n",
    "    max_dec = single_pointing[['DEC1', 'DEC2', 'DEC3', 'DEC4']].max().max()\n",
    "    \n",
    "\n",
    "    # Step 2: Calculate the upward translation distance\n",
    "    translation_distance_up = max_dec - min_dec - shift\n",
    "\n",
    "    # Initialize the result dataframe with the original data\n",
    "    result_df = df.copy()\n",
    "\n",
    "    # Step 3: Apply the upward translations\n",
    "    for i in range(upward_repetitions):\n",
    "        # Translate each corner's Dec coordinates upward\n",
    "        translated_df = single_pointing.copy()\n",
    "        translated_df[['DEC1', 'DEC2', 'DEC3', 'DEC4']] += (i + 1) * translation_distance_up\n",
    "        \n",
    "        # Append the translated squares to the result dataframe\n",
    "        result_df = pd.concat([result_df, translated_df], ignore_index=True)\n",
    "\n",
    "    if left_translation:\n",
    "        # Step 4: Extract the last set of translated squares\n",
    "        last_set = result_df.tail(18)\n",
    "        \n",
    "        # Step 5: Calculate the left translation distance\n",
    "        min_ra = last_set[['RA1', 'RA2', 'RA3', 'RA4']].min().min()\n",
    "        max_ra = last_set[['RA1', 'RA2', 'RA3', 'RA4']].max().max()\n",
    "        translation_distance_left = max_ra - min_ra - shift\n",
    "        \n",
    "        # Step 6: Apply the left translation to the last set\n",
    "        last_set_left_translated = last_set.copy()\n",
    "        last_set_left_translated[['RA1', 'RA2', 'RA3', 'RA4']] += translation_distance_left\n",
    "\n",
    "        # Append the left-translated squares to the result dataframe\n",
    "        result_df = pd.concat([result_df, last_set_left_translated], ignore_index=True)\n",
    "\n",
    "        # Step 7: Apply the downward translations to the left-translated set\n",
    "        for i in range(downward_repetitions):\n",
    "            downward_translated_df = last_set_left_translated.copy()\n",
    "            downward_translated_df[['DEC1', 'DEC2', 'DEC3', 'DEC4']] -= (i + 1) * translation_distance_up\n",
    "            result_df = pd.concat([result_df, downward_translated_df], ignore_index=True)\n",
    "\n",
    "    return result_df"
   ]
  },
  {
   "cell_type": "markdown",
   "id": "a2a69c64-1c6c-40a7-b64c-3966d11c02a7",
   "metadata": {},
   "source": [
    "### 8*5 with corners removed = 36 exposures"
   ]
  },
  {
   "cell_type": "code",
   "execution_count": 7,
   "id": "f97ce9da-15b9-414f-ac12-a64e7b246cfe",
   "metadata": {},
   "outputs": [],
   "source": [
    "#Finishes the first column and makes the second column\n",
    "trans = translate_squares(df, shift=0.01, upward_repetitions=7, left_translation=True, downward_repetitions=7)"
   ]
  },
  {
   "cell_type": "code",
   "execution_count": 8,
   "id": "c31c9ee8-02ec-4956-b94c-b4544bd2d1c8",
   "metadata": {},
   "outputs": [],
   "source": [
    "#Starts the third column\n",
    "trans2 = translate_squares(trans, shift=0.01, upward_repetitions=0, left_translation=True, downward_repetitions=0)"
   ]
  },
  {
   "cell_type": "code",
   "execution_count": 9,
   "id": "6d4373db-0ace-45b9-961d-08e3d22558c5",
   "metadata": {},
   "outputs": [],
   "source": [
    "#Finishes the third column and makes the fourth\n",
    "trans3 = translate_squares(trans2, shift=0.01, upward_repetitions=7, left_translation=True, downward_repetitions=7)"
   ]
  },
  {
   "cell_type": "code",
   "execution_count": 10,
   "id": "ba713d6c-36c9-42cb-a7f5-dda56ad7153e",
   "metadata": {},
   "outputs": [],
   "source": [
    "#Starts the fifth column\n",
    "trans4 = translate_squares(trans3, shift=0.01, upward_repetitions=0, left_translation=True, downward_repetitions=0)"
   ]
  },
  {
   "cell_type": "code",
   "execution_count": 11,
   "id": "b3df6917-7875-4c3c-88da-b409afa15468",
   "metadata": {},
   "outputs": [],
   "source": [
    "#Finishes the fifth column\n",
    "new_df = translate_squares(trans4, shift=0.01, upward_repetitions=7, left_translation=False, downward_repetitions=0)"
   ]
  },
  {
   "cell_type": "markdown",
   "id": "ffe07f58-ca1b-49d9-aa23-8f98689f438c",
   "metadata": {},
   "source": [
    "Plotting to check the shape"
   ]
  },
  {
   "cell_type": "code",
   "execution_count": 12,
   "id": "375f8dfd-9786-4544-ab94-a9343c02a64f",
   "metadata": {},
   "outputs": [],
   "source": [
    "obs_rows = new_df.index"
   ]
  },
  {
   "cell_type": "code",
   "execution_count": 13,
   "id": "0aa73900-e704-469b-bc5d-eb0b62deb3c1",
   "metadata": {},
   "outputs": [],
   "source": [
    "#iterates through the list of indices for all of the rows that correspond to the SCAs in the new footprint and gets the list of pixels that the SCAs touch.\n",
    "ipix_box_list = []\n",
    "for index in obs_rows:\n",
    "    vertices = get_vertices(new_df, index)\n",
    "    ipix_box_single = hp.query_polygon(nside=NSIDE, vertices=vertices, inclusive=False)\n",
    "    ipix_box_list.append(ipix_box_single)\n",
    "ipix_box = np.concatenate(ipix_box_list)"
   ]
  },
  {
   "cell_type": "code",
   "execution_count": 14,
   "id": "188b1b00-c480-45ea-abf8-75f93c12d932",
   "metadata": {},
   "outputs": [],
   "source": [
    "rot = [9.7, -44] #The point we want our image to be centered on. Not the exact center of the footprint because this is just for visualization.\n",
    "m = np.zeros(hp.nside2npix(NSIDE)) #these 3 rows create the map that gets fed into healpy\n",
    "counts = np.bincount(ipix_box, minlength=len(m))\n",
    "m[:len(counts)] = counts"
   ]
  },
  {
   "cell_type": "markdown",
   "id": "0593a08c-24e3-41b1-82c4-ed64d09f8177",
   "metadata": {},
   "source": [
    "(Optional) Change the title here"
   ]
  },
  {
   "cell_type": "code",
   "execution_count": 15,
   "id": "eb4f15a5-60e3-4d89-95d9-7459ba883a61",
   "metadata": {},
   "outputs": [
    {
     "data": {
      "image/png": "[encoded data removed]",
      "text/plain": [
       "<Figure size 580x640 with 2 Axes>"
      ]
     },
     "metadata": {},
     "output_type": "display_data"
    }
   ],
   "source": [
    "hp.gnomview(m, rot=rot,title=\"Sky Location of Roman Pictures-Z087\", reso = 1.6, xsize = 200) #plots the map centered on \"rot\". reso is the number of arcminutes per pixel and xsize is the number of pixels.\n",
    "plt.show()"
   ]
  },
  {
   "cell_type": "markdown",
   "id": "25f686b7-c115-40b6-b12d-e6f341c12ee4",
   "metadata": {},
   "source": [
    "**Change the filter name here and in the cell directly below.**"
   ]
  },
  {
   "cell_type": "code",
   "execution_count": 16,
   "id": "601b1cb5-691b-4ffa-9674-c70d61ec3788",
   "metadata": {},
   "outputs": [],
   "source": [
    "K213 = og_df[(og_df['FILTER'] == 'K213')]"
   ]
  },
  {
   "cell_type": "code",
   "execution_count": 17,
   "id": "c44188bc-7079-4b76-b11c-877a2c600079",
   "metadata": {},
   "outputs": [],
   "source": [
    "sorted_df = K213.sort_values(by='POINTING')"
   ]
  },
  {
   "cell_type": "code",
   "execution_count": 18,
   "id": "1fe4a6a9-53ac-4b4e-8fdb-4dbd96ed5415",
   "metadata": {},
   "outputs": [],
   "source": [
    "ra1_array = new_df['RA1'].values\n",
    "ra2_array = new_df['RA2'].values\n",
    "ra3_array = new_df['RA3'].values\n",
    "ra4_array = new_df['RA4'].values\n",
    "dec1_array = new_df['DEC1'].values\n",
    "dec2_array = new_df['DEC2'].values\n",
    "dec3_array = new_df['DEC3'].values\n",
    "dec4_array = new_df['DEC1'].values"
   ]
  },
  {
   "cell_type": "code",
   "execution_count": 19,
   "id": "7872a34d-a6d9-4a68-85f8-1774be800d23",
   "metadata": {},
   "outputs": [],
   "source": [
    "SCA_array = new_df['SCA'].values\n",
    "filter_array = new_df['FILTER'].values\n",
    "exptime_array = new_df['EXPTIME'].values"
   ]
  },
  {
   "cell_type": "code",
   "execution_count": 20,
   "id": "6cf9991f-efbe-4c87-9d6b-3dd85b23ff2d",
   "metadata": {},
   "outputs": [],
   "source": [
    "pointing_array = sorted_df['POINTING'].values\n",
    "mjd_array = sorted_df['MJD'].values\n",
    "dateobs_array = sorted_df['DATE-OBS'].values"
   ]
  },
  {
   "cell_type": "code",
   "execution_count": 21,
   "id": "9802bc11-3959-4982-89ad-ceacfef01b27",
   "metadata": {},
   "outputs": [],
   "source": [
    "data = {\n",
    "    'POINTING': pointing_array[:720],\n",
    "    'SCA': SCA_array,\n",
    "    'FILTER': filter_array,\n",
    "    'MJD': mjd_array[:720],\n",
    "    'EXPTIME': exptime_array,\n",
    "    'DATE-OBS': dateobs_array[:720],\n",
    "    'RA1': ra1_array,\n",
    "    'DEC1':dec1_array,\n",
    "    'RA2': ra2_array,\n",
    "    'DEC2': dec2_array,\n",
    "    'RA3': ra3_array,\n",
    "    'DEC3': dec3_array,\n",
    "    'RA4': ra4_array,\n",
    "    'DEC4': dec4_array\n",
    "}"
   ]
  },
  {
   "cell_type": "markdown",
   "id": "4e01309f-40f5-4f31-b509-cd2798ba1271",
   "metadata": {},
   "source": [
    "**For all of these \"indices_to_drop\" cells change the number.**"
   ]
  },
  {
   "cell_type": "code",
   "execution_count": 22,
   "id": "3d35b7ad-a767-4c70-9761-f3533537c278",
   "metadata": {},
   "outputs": [],
   "source": [
    "nuevo_df = pd.DataFrame(data)"
   ]
  },
  {
   "cell_type": "code",
   "execution_count": 23,
   "id": "cd611ac6-483c-4dcc-9720-090423de002e",
   "metadata": {},
   "outputs": [],
   "source": [
    "indices_to_drop = nuevo_df[nuevo_df['POINTING'] == 330].index\n",
    "#R: 0\n",
    "#Z: 55\n",
    "#J: 165\n",
    "#H:220\n",
    "#F: 275\n",
    "#K: 330"
   ]
  },
  {
   "cell_type": "code",
   "execution_count": 24,
   "id": "0844b342-91a1-4f7b-afb8-192197c535bf",
   "metadata": {},
   "outputs": [],
   "source": [
    "nuevo_df.drop(indices_to_drop, inplace=True)"
   ]
  },
  {
   "cell_type": "code",
   "execution_count": 25,
   "id": "33e76f86-27fc-4303-996a-04418baea569",
   "metadata": {},
   "outputs": [],
   "source": [
    "indices_to_drop = nuevo_df[nuevo_df['POINTING'] == 337].index\n",
    "#R: 7\n",
    "#Z: 62\n",
    "#J:172\n",
    "#H: 227\n",
    "#F: 282\n",
    "#K: 337"
   ]
  },
  {
   "cell_type": "code",
   "execution_count": 26,
   "id": "4165d0b0-418a-40bc-ae3d-3fcababc040a",
   "metadata": {},
   "outputs": [],
   "source": [
    "nuevo_df.drop(indices_to_drop, inplace=True)"
   ]
  },
  {
   "cell_type": "code",
   "execution_count": 27,
   "id": "a333b0a4-2faf-4828-8169-e2a4f161385e",
   "metadata": {},
   "outputs": [],
   "source": [
    "indices_to_drop = nuevo_df[nuevo_df['POINTING'] == 369].index\n",
    "#R: 39\n",
    "#Z: 94\n",
    "#J: 204\n",
    "#H: 259\n",
    "#F: 314\n",
    "#K: 369"
   ]
  },
  {
   "cell_type": "code",
   "execution_count": 28,
   "id": "03ef9b92-ef55-4f36-a5d1-9977a0e981df",
   "metadata": {},
   "outputs": [],
   "source": [
    "nuevo_df.drop(indices_to_drop, inplace=True)"
   ]
  },
  {
   "cell_type": "code",
   "execution_count": 29,
   "id": "42d93b96-5383-4aba-8c5a-d4a8b627c9b7",
   "metadata": {},
   "outputs": [],
   "source": [
    "indices_to_drop = nuevo_df[nuevo_df['POINTING'] == 362].index\n",
    "#R: 32\n",
    "#Z: 87\n",
    "#J: 197\n",
    "#H: 252\n",
    "#F: 307\n",
    "#K: 362"
   ]
  },
  {
   "cell_type": "code",
   "execution_count": 30,
   "id": "bcf0b4cc-472b-42e1-af68-75e20872ffe1",
   "metadata": {},
   "outputs": [],
   "source": [
    "nuevo_df.drop(indices_to_drop, inplace=True)"
   ]
  },
  {
   "cell_type": "code",
   "execution_count": 31,
   "id": "1dc8c227-4ac0-4c75-9b92-173c8bb8d03e",
   "metadata": {},
   "outputs": [],
   "source": [
    "nuevo_df = nuevo_df.reset_index(drop=True)"
   ]
  },
  {
   "cell_type": "code",
   "execution_count": 32,
   "id": "ebf6d23d-31a8-4734-83cf-e3e83b300b47",
   "metadata": {},
   "outputs": [],
   "source": [
    "obs_rows = nuevo_df.index"
   ]
  },
  {
   "cell_type": "code",
   "execution_count": 33,
   "id": "fdc85863-7e11-497d-ac2b-434c7ae3cadb",
   "metadata": {},
   "outputs": [],
   "source": [
    "ipix_box_list = []\n",
    "for index in obs_rows:\n",
    "    vertices = get_vertices(nuevo_df, index)\n",
    "    ipix_box_single = hp.query_polygon(nside=NSIDE, vertices=vertices, inclusive=False)\n",
    "    ipix_box_list.append(ipix_box_single)\n",
    "ipix_box = np.concatenate(ipix_box_list)"
   ]
  },
  {
   "cell_type": "code",
   "execution_count": 34,
   "id": "3459efe2-8043-4b97-8e1c-a394734ce355",
   "metadata": {},
   "outputs": [],
   "source": [
    "rot = [9.7, -44]\n",
    "m = np.zeros(hp.nside2npix(NSIDE))\n",
    "counts = np.bincount(ipix_box, minlength=len(m))\n",
    "m[:len(counts)] = counts"
   ]
  },
  {
   "cell_type": "markdown",
   "id": "a6edd3cf-0594-4c5b-aaeb-202025cb7231",
   "metadata": {},
   "source": [
    "(Optional) Change the title here."
   ]
  },
  {
   "cell_type": "code",
   "execution_count": 35,
   "id": "72419f0c-506d-4058-b525-40cd32aa5c57",
   "metadata": {},
   "outputs": [
    {
     "data": {
      "image/png": "[encoded data removed]",
      "text/plain": [
       "<Figure size 580x640 with 2 Axes>"
      ]
     },
     "metadata": {},
     "output_type": "display_data"
    }
   ],
   "source": [
    "hp.gnomview(m, rot=rot,title=\"Sky Location of Roman Pictures-R062\", reso = 1.6, xsize = 200)\n",
    "plt.show()"
   ]
  },
  {
   "cell_type": "code",
   "execution_count": 36,
   "id": "cc9b0c1b-a340-4bbd-adf1-23854fb20325",
   "metadata": {},
   "outputs": [],
   "source": [
    "def rotate_point(x, y, angle_rad):\n",
    "    \"\"\"Rotate a point clockwise by a given angle around the origin (0, 0).\"\"\"\n",
    "    cos_angle = np.cos(angle_rad)\n",
    "    sin_angle = np.sin(angle_rad)\n",
    "    \n",
    "    x_new = cos_angle * x + -sin_angle * y\n",
    "    y_new = sin_angle * x + cos_angle * y\n",
    "    \n",
    "    return x_new, y_new"
   ]
  },
  {
   "cell_type": "code",
   "execution_count": 37,
   "id": "57b7d0fb-39be-4f96-ba76-2a85d14cae6d",
   "metadata": {},
   "outputs": [],
   "source": [
    "def rotate_squares(df, foot_angle_deg):\n",
    "    '''\n",
    "    Function to rotate the footprint clockwise once as viewed in the gnomview projection. \n",
    "    Commented out, there is code to also rotate individual pointings if desired. The angle of rotation and a list of lists of indices corresponding to the groups of SCAs in a pointing would need to be added as arguments in the function.\n",
    "    The previous names for these arguments were point_angle_deg and subset_indices_list.\n",
    "    Inputs: \n",
    "        Dataframe that contains the rows for the footprint. \n",
    "        foot_angle_deg is the rotation angle in degrees that you want to rotate the footprint by.\n",
    "    Output: A dataframe of corner ra and dec coordinates for the rotated footprint. (If angle is 0 then it is the ra and dec coordinates for the original footprint).    \n",
    "    '''\n",
    "    # Convert angles from degrees to radians\n",
    "    angle_rad = np.radians(foot_angle_deg)\n",
    "    #subset_angle_rad = np.radians(point_angle_deg) \n",
    "\n",
    "    # Calculate the center of the entire set\n",
    "    ra_center = df[[f'RA{i}' for i in range(1, 5)]].values.mean()\n",
    "    dec_center = df[[f'DEC{i}' for i in range(1, 5)]].values.mean()\n",
    "\n",
    "    # Initialize an empty DataFrame to store rotated squares\n",
    "    rotated_data = {f'RA{i}': [] for i in range(1, 5)}\n",
    "    rotated_data.update({f'DEC{i}': [] for i in range(1, 5)})\n",
    "\n",
    "    # Apply the initial rotation to the entire set\n",
    "    for index, row in (df.tail(648)).iterrows():\n",
    "        for i in range(1, 5):\n",
    "            ra, dec = row[f'RA{i}'], row[f'DEC{i}']\n",
    "\n",
    "            # Translate points to origin (center of the entire set)\n",
    "            ra_translated = ra - ra_center\n",
    "            dec_translated = dec - dec_center\n",
    "\n",
    "            # Rotate the points\n",
    "            ra_rot, dec_rot = rotate_point(ra_translated, dec_translated, angle_rad)\n",
    "\n",
    "            # Translate points back to the original position\n",
    "            rotated_data[f'RA{i}'].append(ra_rot + ra_center)\n",
    "            rotated_data[f'DEC{i}'].append(dec_rot + dec_center)\n",
    "\n",
    "    # Create a DataFrame for the initially rotated squares\n",
    "    rotated_df = pd.DataFrame(rotated_data)\n",
    "\n",
    "    # Apply the additional rotation to each subset\n",
    "    #for subset_indices in subset_indices_list:\n",
    "     #   subset_df = rotated_df.iloc[subset_indices]\n",
    "      #  ra_center_subset = subset_df[[f'RA{i}' for i in range(1, 5)]].values.mean()\n",
    "       # dec_center_subset = subset_df[[f'DEC{i}' for i in range(1, 5)]].values.mean()\n",
    "        \n",
    "        #for index in subset_indices:\n",
    "         #   row = rotated_df.loc[index]\n",
    "          #  for i in range(1, 5):\n",
    "           #     ra, dec = row[f'RA{i}'], row[f'DEC{i}']\n",
    "\n",
    "                # Translate points to origin (center of the subset)\n",
    "              #  ra_translated = ra - ra_center_subset\n",
    "               # dec_translated = dec - dec_center_subset\n",
    "\n",
    "                # Rotate the points\n",
    "                #ra_rot, dec_rot = rotate_point(ra_translated, dec_translated, subset_angle_rad)\n",
    "\n",
    "                # Translate points back to the original position\n",
    "                #rotated_df.at[index, f'RA{i}'] = ra_rot + ra_center_subset\n",
    "                #rotated_df.at[index, f'DEC{i}'] = dec_rot + dec_center_subset\n",
    "\n",
    "    # Concatenate the original and rotated DataFrames\n",
    "    #result_df = pd.concat([df, rotated_df], ignore_index=True)\n",
    "    result_df = rotated_df\n",
    "\n",
    "    return result_df"
   ]
  },
  {
   "cell_type": "code",
   "execution_count": 39,
   "id": "db58d9c2-913e-4282-84a6-93bf54985bc0",
   "metadata": {},
   "outputs": [],
   "source": [
    "#This gets the list of days used to calculate the rotation angle of the footprint.\n",
    "list1 = list(range(0, 726, 5)) #The 725 days of the observation period\n",
    "list2 = [1550, 1555, 1560] #The small 10 day observation period"
   ]
  },
  {
   "cell_type": "code",
   "execution_count": 40,
   "id": "0cbcb3e1-cad5-402c-9ba4-b6c80a5b5a7a",
   "metadata": {},
   "outputs": [],
   "source": [
    "#360 degrees divided by 365 days times number of days = how much it has rotated on a given day"
   ]
  },
  {
   "cell_type": "code",
   "execution_count": 41,
   "id": "ee8b63ac-5131-4f4e-8344-59049dab3018",
   "metadata": {},
   "outputs": [],
   "source": [
    "#Gets a list of angles for each day to rotate the footprint by.\n",
    "foot_angles_list = []\n",
    "\n",
    "for day in list1:\n",
    "    angle = (360 / 365) * day\n",
    "    foot_angles_list.append(angle)"
   ]
  },
  {
   "cell_type": "code",
   "execution_count": 42,
   "id": "cdf2c9e9-b75b-44c8-8808-04ca01369a15",
   "metadata": {},
   "outputs": [],
   "source": [
    "#Gets a list of angles for each day to rotate the individual pointings by.\n",
    "#point_angles_list = []\n",
    "#deg = 1\n",
    "\n",
    "#for day in list1:\n",
    " #   angle = deg * day\n",
    "  #  point_angles_list.append(angle)"
   ]
  },
  {
   "cell_type": "code",
   "execution_count": 44,
   "id": "d64a83ef-45b0-40fb-a0f5-28d03216e66c",
   "metadata": {},
   "outputs": [],
   "source": [
    "#Gets the list of lists of SCAs for each pointing in the footprint. Used for rotating the individual pointings.\n",
    "#group_size = 18\n",
    "#num_rows = len(nuevo_df)\n",
    "#indices = nuevo_df.index.tolist()\n",
    "\n",
    "#list_of_lists = []\n",
    "#for i in range(0, num_rows, group_size):\n",
    " #   list_of_lists.append(indices[i:i + group_size])"
   ]
  },
  {
   "cell_type": "code",
   "execution_count": 45,
   "id": "c74ce21d-8a67-4a17-8a0f-ffd30064331d",
   "metadata": {},
   "outputs": [],
   "source": [
    "#This is the format of the loop needed if there is an individual pointing rotation.\n",
    "#result_df = pd.DataFrame()\n",
    "\n",
    "#for foot_angle, point_angle in zip(foot_angles_list, point_angles_list):\n",
    "    # Rotate the original DataFrame by the current angle\n",
    " #   rotated_df = rotate_squares(nuevo_df, foot_angle, point_angle, list_of_lists)\n",
    "    # Append the rotated DataFrame to the result\n",
    "  #  result_df = pd.concat([result_df, rotated_df], ignore_index=True)\n",
    "\n",
    "# Add the original data separately to avoid duplication\n",
    "#result_df = pd.concat([nuevo_df, result_df.iloc[len(nuevo_df):]], ignore_index=True)"
   ]
  },
  {
   "cell_type": "code",
   "execution_count": 46,
   "id": "e88b8456-3b17-489c-b545-eb40a3b047b7",
   "metadata": {},
   "outputs": [],
   "source": [
    "#This calls the function for every angle, making a dataframe with ra and dec coordinates of the corners of the SCAs in the footprint for all angles covered in the 725 days.\n",
    "result_df = pd.DataFrame()\n",
    "\n",
    "for foot_angle in foot_angles_list:\n",
    "    # Rotate the original DataFrame by the current angle\n",
    "    rotated_df = rotate_squares(nuevo_df, foot_angle)\n",
    "    # Append the rotated DataFrame to the result\n",
    "    result_df = pd.concat([result_df, rotated_df], ignore_index=True)"
   ]
  },
  {
   "cell_type": "code",
   "execution_count": 47,
   "id": "579b8f05-453d-4020-882e-5d07372c6886",
   "metadata": {},
   "outputs": [
    {
     "data": {
      "text/html": [
       "<div>\n",
       "<style scoped>\n",
       "    .dataframe tbody tr th:only-of-type {\n",
       "        vertical-align: middle;\n",
       "    }\n",
       "\n",
       "    .dataframe tbody tr th {\n",
       "        vertical-align: top;\n",
       "    }\n",
       "\n",
       "    .dataframe thead th {\n",
       "        text-align: right;\n",
       "    }\n",
       "</style>\n",
       "<table border=\"1\" class=\"dataframe\">\n",
       "  <thead>\n",
       "    <tr style=\"text-align: right;\">\n",
       "      <th></th>\n",
       "      <th>RA1</th>\n",
       "      <th>RA2</th>\n",
       "      <th>RA3</th>\n",
       "      <th>RA4</th>\n",
       "      <th>DEC1</th>\n",
       "      <th>DEC2</th>\n",
       "      <th>DEC3</th>\n",
       "      <th>DEC4</th>\n",
       "    </tr>\n",
       "  </thead>\n",
       "  <tbody>\n",
       "    <tr>\n",
       "      <th>0</th>\n",
       "      <td>7.029217</td>\n",
       "      <td>7.032768</td>\n",
       "      <td>7.209526</td>\n",
       "      <td>7.206366</td>\n",
       "      <td>-45.363696</td>\n",
       "      <td>-45.240500</td>\n",
       "      <td>-45.240019</td>\n",
       "      <td>-45.363696</td>\n",
       "    </tr>\n",
       "    <tr>\n",
       "      <th>1</th>\n",
       "      <td>7.596622</td>\n",
       "      <td>7.595908</td>\n",
       "      <td>7.420693</td>\n",
       "      <td>7.421770</td>\n",
       "      <td>-44.874148</td>\n",
       "      <td>-44.991030</td>\n",
       "      <td>-44.991469</td>\n",
       "      <td>-44.874148</td>\n",
       "    </tr>\n",
       "    <tr>\n",
       "      <th>2</th>\n",
       "      <td>7.809333</td>\n",
       "      <td>7.806866</td>\n",
       "      <td>7.982991</td>\n",
       "      <td>7.985836</td>\n",
       "      <td>-45.149774</td>\n",
       "      <td>-45.029628</td>\n",
       "      <td>-45.030469</td>\n",
       "      <td>-45.149774</td>\n",
       "    </tr>\n",
       "    <tr>\n",
       "      <th>3</th>\n",
       "      <td>7.809069</td>\n",
       "      <td>7.806899</td>\n",
       "      <td>7.984775</td>\n",
       "      <td>7.987336</td>\n",
       "      <td>-45.297976</td>\n",
       "      <td>-45.175284</td>\n",
       "      <td>-45.175660</td>\n",
       "      <td>-45.297976</td>\n",
       "    </tr>\n",
       "    <tr>\n",
       "      <th>4</th>\n",
       "      <td>7.613938</td>\n",
       "      <td>7.613531</td>\n",
       "      <td>7.790317</td>\n",
       "      <td>7.791102</td>\n",
       "      <td>-45.123302</td>\n",
       "      <td>-45.003435</td>\n",
       "      <td>-45.003995</td>\n",
       "      <td>-45.123302</td>\n",
       "    </tr>\n",
       "    <tr>\n",
       "      <th>...</th>\n",
       "      <td>...</td>\n",
       "      <td>...</td>\n",
       "      <td>...</td>\n",
       "      <td>...</td>\n",
       "      <td>...</td>\n",
       "      <td>...</td>\n",
       "      <td>...</td>\n",
       "      <td>...</td>\n",
       "    </tr>\n",
       "    <tr>\n",
       "      <th>94603</th>\n",
       "      <td>12.082352</td>\n",
       "      <td>12.093541</td>\n",
       "      <td>12.269656</td>\n",
       "      <td>12.258808</td>\n",
       "      <td>-42.910830</td>\n",
       "      <td>-42.791512</td>\n",
       "      <td>-42.806286</td>\n",
       "      <td>-42.926056</td>\n",
       "    </tr>\n",
       "    <tr>\n",
       "      <th>94604</th>\n",
       "      <td>12.848778</td>\n",
       "      <td>12.843145</td>\n",
       "      <td>12.670127</td>\n",
       "      <td>12.675964</td>\n",
       "      <td>-42.819250</td>\n",
       "      <td>-42.937610</td>\n",
       "      <td>-42.920811</td>\n",
       "      <td>-42.804339</td>\n",
       "    </tr>\n",
       "    <tr>\n",
       "      <th>94605</th>\n",
       "      <td>12.068393</td>\n",
       "      <td>12.080054</td>\n",
       "      <td>12.257936</td>\n",
       "      <td>12.246664</td>\n",
       "      <td>-43.057703</td>\n",
       "      <td>-42.935745</td>\n",
       "      <td>-42.951082</td>\n",
       "      <td>-43.073085</td>\n",
       "    </tr>\n",
       "    <tr>\n",
       "      <th>94606</th>\n",
       "      <td>12.085811</td>\n",
       "      <td>12.073106</td>\n",
       "      <td>11.898920</td>\n",
       "      <td>11.912090</td>\n",
       "      <td>-42.686838</td>\n",
       "      <td>-42.803515</td>\n",
       "      <td>-42.789682</td>\n",
       "      <td>-42.671849</td>\n",
       "    </tr>\n",
       "    <tr>\n",
       "      <th>94607</th>\n",
       "      <td>11.886067</td>\n",
       "      <td>11.899151</td>\n",
       "      <td>12.074758</td>\n",
       "      <td>12.061979</td>\n",
       "      <td>-42.920826</td>\n",
       "      <td>-42.801363</td>\n",
       "      <td>-42.815676</td>\n",
       "      <td>-42.936005</td>\n",
       "    </tr>\n",
       "  </tbody>\n",
       "</table>\n",
       "<p>94608 rows × 8 columns</p>\n",
       "</div>"
      ],
      "text/plain": [
       "             RA1        RA2        RA3        RA4       DEC1       DEC2  \\\n",
       "0       7.029217   7.032768   7.209526   7.206366 -45.363696 -45.240500   \n",
       "1       7.596622   7.595908   7.420693   7.421770 -44.874148 -44.991030   \n",
       "2       7.809333   7.806866   7.982991   7.985836 -45.149774 -45.029628   \n",
       "3       7.809069   7.806899   7.984775   7.987336 -45.297976 -45.175284   \n",
       "4       7.613938   7.613531   7.790317   7.791102 -45.123302 -45.003435   \n",
       "...          ...        ...        ...        ...        ...        ...   \n",
       "94603  12.082352  12.093541  12.269656  12.258808 -42.910830 -42.791512   \n",
       "94604  12.848778  12.843145  12.670127  12.675964 -42.819250 -42.937610   \n",
       "94605  12.068393  12.080054  12.257936  12.246664 -43.057703 -42.935745   \n",
       "94606  12.085811  12.073106  11.898920  11.912090 -42.686838 -42.803515   \n",
       "94607  11.886067  11.899151  12.074758  12.061979 -42.920826 -42.801363   \n",
       "\n",
       "            DEC3       DEC4  \n",
       "0     -45.240019 -45.363696  \n",
       "1     -44.991469 -44.874148  \n",
       "2     -45.030469 -45.149774  \n",
       "3     -45.175660 -45.297976  \n",
       "4     -45.003995 -45.123302  \n",
       "...          ...        ...  \n",
       "94603 -42.806286 -42.926056  \n",
       "94604 -42.920811 -42.804339  \n",
       "94605 -42.951082 -43.073085  \n",
       "94606 -42.789682 -42.671849  \n",
       "94607 -42.815676 -42.936005  \n",
       "\n",
       "[94608 rows x 8 columns]"
      ]
     },
     "execution_count": 47,
     "metadata": {},
     "output_type": "execute_result"
    }
   ],
   "source": [
    "result_df"
   ]
  },
  {
   "cell_type": "code",
   "execution_count": 48,
   "id": "d4986a8a-f3f9-4fe5-b51e-6b7cd7578229",
   "metadata": {},
   "outputs": [],
   "source": [
    "#This calculates the center of each pointing\n",
    "ra_centers = []\n",
    "dec_centers = []\n",
    "# Loop through the DataFrame in chunks of 'subset_size'\n",
    "for i in range(0, len(result_df), 18):\n",
    "    subset = result_df.iloc[i:i + 18]\n",
    "        \n",
    "    # Calculate the mean RA and Dec for the subset\n",
    "    ra_center = subset[[f'RA{j}' for j in range(1, 5)]].values.mean()\n",
    "    dec_center = subset[[f'DEC{j}' for j in range(1, 5)]].values.mean()\n",
    "        \n",
    "    ra_centers.append(ra_center)\n",
    "    dec_centers.append(dec_center)"
   ]
  },
  {
   "cell_type": "code",
   "execution_count": 49,
   "id": "24299d13-53d0-4d9a-a728-4d9b214c6c32",
   "metadata": {},
   "outputs": [],
   "source": [
    "ras_array = [item for item in ra_centers for _ in range(18)] #repeat the value 18 times for each of the 18 SCA rows.\n",
    "decs_array = [item for item in dec_centers for _ in range(18)]"
   ]
  },
  {
   "cell_type": "code",
   "execution_count": 50,
   "id": "45f76c4c-ed4a-4471-933c-2ff278d36322",
   "metadata": {},
   "outputs": [],
   "source": [
    "#Calculates the overall footprint center\n",
    "ra_center = nuevo_df[[f'RA{i}' for i in range(1, 5)]].values.mean() #gets the RA values from all 4 columns and calculates the mean.\n",
    "dec_center = nuevo_df[[f'DEC{i}' for i in range(1, 5)]].values.mean() #gets the Dec values from all 4 columns and calculates the mean."
   ]
  },
  {
   "cell_type": "code",
   "execution_count": 51,
   "id": "91477bbe-85b0-434e-bad0-1c31ffe0fe05",
   "metadata": {},
   "outputs": [],
   "source": [
    "#Repeat the number 94608 times for all of the rows in the dataframe because the footprint center stays constant.\n",
    "ra_center_array = [ra_center]*94608\n",
    "dec_center_array = [dec_center]*94608"
   ]
  },
  {
   "cell_type": "code",
   "execution_count": 53,
   "id": "237318d6-75a5-4879-831a-876b604fbce8",
   "metadata": {},
   "outputs": [],
   "source": [
    "#point_angles_array = [item for item in point_angles_list for _ in range(648)]"
   ]
  },
  {
   "cell_type": "code",
   "execution_count": 54,
   "id": "db5d211b-1fb5-4c26-a3a3-cb3bcd253fa6",
   "metadata": {},
   "outputs": [],
   "source": [
    "foot_angles_array = [item for item in foot_angles_list for _ in range(648)] #repeat 648 times for all of the rows in each footprint."
   ]
  },
  {
   "cell_type": "markdown",
   "id": "40e53f17-4959-423c-8c4e-be4fc2b1116d",
   "metadata": {},
   "source": [
    "**Change the filter name here.**"
   ]
  },
  {
   "cell_type": "code",
   "execution_count": 55,
   "id": "6eb9d3e1-a1e0-48da-b6b2-1b74e2f970e5",
   "metadata": {},
   "outputs": [],
   "source": [
    "#get the original mjd values from the DCC simulations.\n",
    "mjd = og_df[(og_df['FILTER'] == 'K213')]['MJD'].values"
   ]
  },
  {
   "cell_type": "code",
   "execution_count": 56,
   "id": "2f2300fd-f853-4cb5-83e3-a46dc5829291",
   "metadata": {},
   "outputs": [],
   "source": [
    "#There are repeats because of the SCAs so they need to be taken out for now.\n",
    "mjd = np.unique(mjd)"
   ]
  },
  {
   "cell_type": "code",
   "execution_count": 85,
   "id": "3462ddd4-16dc-4654-8b4f-4141400932ca",
   "metadata": {},
   "outputs": [],
   "source": [
    "#DCC sims had 55 pointings per footprint but mine only needs 36. Getting the first 36 mjd values for each day.\n",
    "result = []\n",
    "for i in range(0, len(mjd), 55):\n",
    "    # Get the first 36 values from the current group of 55\n",
    "    group_values = mjd[i:i + 36]\n",
    "    result.extend(group_values)"
   ]
  },
  {
   "cell_type": "code",
   "execution_count": 58,
   "id": "7a26edce-a441-42d6-b1e3-52a018866efe",
   "metadata": {},
   "outputs": [],
   "source": [
    "result = result[:5256] #cuts off the values for the 10 day observation period"
   ]
  },
  {
   "cell_type": "code",
   "execution_count": 59,
   "id": "c5a1e2e3-adab-403c-bfa8-c73a3edc9137",
   "metadata": {},
   "outputs": [],
   "source": [
    "mjd_array = [item for item in result for _ in range(18)] #repeat for each SCA."
   ]
  },
  {
   "cell_type": "markdown",
   "id": "765dcf3f-db13-425e-b30e-63a5150e5fac",
   "metadata": {},
   "source": [
    "**Change the filter name here.**"
   ]
  },
  {
   "cell_type": "code",
   "execution_count": 60,
   "id": "4e45d271-9dcb-4ebe-bf85-2f07f3b35467",
   "metadata": {},
   "outputs": [],
   "source": [
    "#DCC sims datetime values\n",
    "date = og_df[(og_df['FILTER'] == 'K213')]['DATE-OBS'].values"
   ]
  },
  {
   "cell_type": "code",
   "execution_count": 61,
   "id": "92db354d-fdc5-4755-a04a-14541176bfcc",
   "metadata": {},
   "outputs": [],
   "source": [
    "#get rid of repeats\n",
    "date = np.unique(date)"
   ]
  },
  {
   "cell_type": "code",
   "execution_count": 62,
   "id": "06241b12-a2ee-4089-bd04-d9ad962da7f2",
   "metadata": {},
   "outputs": [],
   "source": [
    "#Getting first 36 datetime values per day.\n",
    "result = []\n",
    "for i in range(0, len(date), 55):\n",
    "    # Get the first 36 values from the current group of 55\n",
    "    group_values = date[i:i + 36]\n",
    "    result.extend(group_values)"
   ]
  },
  {
   "cell_type": "code",
   "execution_count": 63,
   "id": "7cc57176-3546-4507-84f7-d9765a14f6fb",
   "metadata": {},
   "outputs": [],
   "source": [
    "result = result[:5256] #cut out 10 days of observation"
   ]
  },
  {
   "cell_type": "code",
   "execution_count": 64,
   "id": "d2e8a887-f56b-4294-a0fe-049dd92389d7",
   "metadata": {},
   "outputs": [],
   "source": [
    "date_obs_array = [item for item in result for _ in range(18)] #repeat values"
   ]
  },
  {
   "cell_type": "markdown",
   "id": "6e1939df-3498-47cc-90ea-651ae955527f",
   "metadata": {},
   "source": [
    "**Need to change the start value here.**"
   ]
  },
  {
   "cell_type": "code",
   "execution_count": 65,
   "id": "baa19324-0581-48db-b0a9-dd8b8a8911c8",
   "metadata": {},
   "outputs": [],
   "source": [
    "#This generates the new pointing values, following the same pattern that the DCC sims.\n",
    "#The pointings go like this: Tile a footprint for each filter in the order of R,Z,Y,J,H,F,K. Then for each rotation angle it goes through this order again.\n",
    "\n",
    "pointings = []\n",
    "# Start value for the first block\n",
    "start_value = 252\n",
    "#R: 0\n",
    "#Z: 36\n",
    "#J: 108\n",
    "#H: 144\n",
    "#F: 180\n",
    "#K: 216\n",
    "\n",
    "\n",
    "# Create the list using a loop\n",
    "for block in range(146):\n",
    "    # Create the current block of consecutive numbers\n",
    "    block_values = list(range(start_value, start_value + 36))\n",
    "    # Append the block to the result list\n",
    "    pointings.extend(block_values)\n",
    "    # Update the start value for the next block\n",
    "    start_value = block_values[-1] + 1 + 216"
   ]
  },
  {
   "cell_type": "code",
   "execution_count": 66,
   "id": "6708fb88-8234-454c-a348-3d4f4e10980e",
   "metadata": {},
   "outputs": [],
   "source": [
    "pointing_array = [item for item in pointings for _ in range(18)]"
   ]
  },
  {
   "cell_type": "markdown",
   "id": "e7293b88-3881-4a00-bd3f-72f31146c59f",
   "metadata": {},
   "source": [
    "**Change the filter name here**"
   ]
  },
  {
   "cell_type": "code",
   "execution_count": 67,
   "id": "324e3e51-45b3-4ed1-a2e7-202f042aa61d",
   "metadata": {},
   "outputs": [],
   "source": [
    "sorted_df = K213.sort_values(by='POINTING')"
   ]
  },
  {
   "cell_type": "code",
   "execution_count": 68,
   "id": "4bf3487b-d0a1-4be5-b17e-789762b084d1",
   "metadata": {},
   "outputs": [],
   "source": [
    "filter_array = sorted_df['FILTER'].values"
   ]
  },
  {
   "cell_type": "code",
   "execution_count": 69,
   "id": "a37e764a-5e5c-43f4-a6d9-eaa46ec85bb4",
   "metadata": {},
   "outputs": [],
   "source": [
    "exp_time = sorted_df['EXPTIME'].values"
   ]
  },
  {
   "cell_type": "code",
   "execution_count": 70,
   "id": "dc22e0cf-e12a-407b-bb6d-dfd266baf929",
   "metadata": {},
   "outputs": [],
   "source": [
    "SCAs = df['SCA'].values"
   ]
  },
  {
   "cell_type": "code",
   "execution_count": 71,
   "id": "b20039a8-affb-41bd-8864-7d7dd172e592",
   "metadata": {},
   "outputs": [],
   "source": [
    "SCA_array = np.tile(SCAs, 5256) #repeats the SCAs in their same order for every pointing. "
   ]
  },
  {
   "cell_type": "code",
   "execution_count": 72,
   "id": "b97f20d1-7182-4389-9c53-57d52e25cbf9",
   "metadata": {},
   "outputs": [],
   "source": [
    "result_df.insert(0, 'POINTING', pointing_array)"
   ]
  },
  {
   "cell_type": "code",
   "execution_count": 73,
   "id": "53d377b9-e167-4dff-a914-aa4863609a8a",
   "metadata": {},
   "outputs": [],
   "source": [
    "result_df.insert(1, 'SCA', SCA_array)"
   ]
  },
  {
   "cell_type": "code",
   "execution_count": 74,
   "id": "733c13cb-8c6e-4530-beac-ffa443ae228f",
   "metadata": {},
   "outputs": [],
   "source": [
    "result_df['SCA'] = result_df['SCA'].astype(int)"
   ]
  },
  {
   "cell_type": "code",
   "execution_count": 75,
   "id": "b75e90fe-eb95-4209-a661-b53f49dd6843",
   "metadata": {},
   "outputs": [],
   "source": [
    "result_df.insert(2, 'FILTER', filter_array[:94608])"
   ]
  },
  {
   "cell_type": "code",
   "execution_count": 76,
   "id": "94797faa-2b7d-4dfd-b23a-8f504df6ec14",
   "metadata": {},
   "outputs": [],
   "source": [
    "result_df.insert(3, 'MJD', mjd_array)"
   ]
  },
  {
   "cell_type": "code",
   "execution_count": 77,
   "id": "0eb1943b-7604-4178-bf74-793a3df71123",
   "metadata": {},
   "outputs": [],
   "source": [
    "result_df.insert(4, 'EXPTIME', exp_time[:94608])"
   ]
  },
  {
   "cell_type": "code",
   "execution_count": 78,
   "id": "857b0f54-1f04-46e0-b9af-c64a9fd24e07",
   "metadata": {},
   "outputs": [],
   "source": [
    "result_df.insert(5, 'DATE-OBS', date_obs_array)"
   ]
  },
  {
   "cell_type": "code",
   "execution_count": 79,
   "id": "916f5f9d-9e86-4960-b804-e732f985ed3a",
   "metadata": {},
   "outputs": [],
   "source": [
    "result_df.insert(6, 'EXP CENTER- RA', ras_array) #Exposure center = center of every exposure\n",
    "result_df.insert(7, 'EXP CENTER- DEC', decs_array) \n",
    "#result_df.insert(8, 'MINOR ROT ANGLE', point_angles_array) #rotation angle of the individual pointings"
   ]
  },
  {
   "cell_type": "code",
   "execution_count": 80,
   "id": "fe326894-6744-430a-8c8c-461348890e72",
   "metadata": {},
   "outputs": [],
   "source": [
    "result_df.insert(8, 'MAJOR ROT AXS- RA', ra_center_array) #major rotation axis = The footprint center\n",
    "result_df.insert(9, 'MAJOR ROT AXS- DEC', dec_center_array)\n",
    "result_df.insert(10, 'MAJOR ROT ANGLE', foot_angles_array) #major rotation angle = all of the rotation angles for the footprint"
   ]
  },
  {
   "cell_type": "code",
   "execution_count": 81,
   "id": "96f3c062-202b-4493-93ae-56206a6ef573",
   "metadata": {},
   "outputs": [
    {
     "data": {
      "text/html": [
       "<div>\n",
       "<style scoped>\n",
       "    .dataframe tbody tr th:only-of-type {\n",
       "        vertical-align: middle;\n",
       "    }\n",
       "\n",
       "    .dataframe tbody tr th {\n",
       "        vertical-align: top;\n",
       "    }\n",
       "\n",
       "    .dataframe thead th {\n",
       "        text-align: right;\n",
       "    }\n",
       "</style>\n",
       "<table border=\"1\" class=\"dataframe\">\n",
       "  <thead>\n",
       "    <tr style=\"text-align: right;\">\n",
       "      <th></th>\n",
       "      <th>POINTING</th>\n",
       "      <th>SCA</th>\n",
       "      <th>FILTER</th>\n",
       "      <th>MJD</th>\n",
       "      <th>EXPTIME</th>\n",
       "      <th>DATE-OBS</th>\n",
       "      <th>EXP CENTER- RA</th>\n",
       "      <th>EXP CENTER- DEC</th>\n",
       "      <th>MAJOR ROT AXS- RA</th>\n",
       "      <th>MAJOR ROT AXS- DEC</th>\n",
       "      <th>MAJOR ROT ANGLE</th>\n",
       "      <th>RA1</th>\n",
       "      <th>RA2</th>\n",
       "      <th>RA3</th>\n",
       "      <th>RA4</th>\n",
       "      <th>DEC1</th>\n",
       "      <th>DEC2</th>\n",
       "      <th>DEC3</th>\n",
       "      <th>DEC4</th>\n",
       "    </tr>\n",
       "  </thead>\n",
       "  <tbody>\n",
       "    <tr>\n",
       "      <th>0</th>\n",
       "      <td>252</td>\n",
       "      <td>16</td>\n",
       "      <td>K213</td>\n",
       "      <td>62002.33849</td>\n",
       "      <td>901.175</td>\n",
       "      <td>2028-08-19 08:07:25.536000</td>\n",
       "      <td>7.60534</td>\n",
       "      <td>-45.108231</td>\n",
       "      <td>9.889758</td>\n",
       "      <td>-43.909362</td>\n",
       "      <td>0.000000</td>\n",
       "      <td>7.029217</td>\n",
       "      <td>7.032768</td>\n",
       "      <td>7.209526</td>\n",
       "      <td>7.206366</td>\n",
       "      <td>-45.363696</td>\n",
       "      <td>-45.240500</td>\n",
       "      <td>-45.240019</td>\n",
       "      <td>-45.363696</td>\n",
       "    </tr>\n",
       "    <tr>\n",
       "      <th>1</th>\n",
       "      <td>252</td>\n",
       "      <td>12</td>\n",
       "      <td>K213</td>\n",
       "      <td>62002.33849</td>\n",
       "      <td>901.175</td>\n",
       "      <td>2028-08-19 08:07:25.536000</td>\n",
       "      <td>7.60534</td>\n",
       "      <td>-45.108231</td>\n",
       "      <td>9.889758</td>\n",
       "      <td>-43.909362</td>\n",
       "      <td>0.000000</td>\n",
       "      <td>7.596622</td>\n",
       "      <td>7.595908</td>\n",
       "      <td>7.420693</td>\n",
       "      <td>7.421770</td>\n",
       "      <td>-44.874148</td>\n",
       "      <td>-44.991030</td>\n",
       "      <td>-44.991469</td>\n",
       "      <td>-44.874148</td>\n",
       "    </tr>\n",
       "    <tr>\n",
       "      <th>2</th>\n",
       "      <td>252</td>\n",
       "      <td>5</td>\n",
       "      <td>K213</td>\n",
       "      <td>62002.33849</td>\n",
       "      <td>901.175</td>\n",
       "      <td>2028-08-19 08:07:25.536000</td>\n",
       "      <td>7.60534</td>\n",
       "      <td>-45.108231</td>\n",
       "      <td>9.889758</td>\n",
       "      <td>-43.909362</td>\n",
       "      <td>0.000000</td>\n",
       "      <td>7.809333</td>\n",
       "      <td>7.806866</td>\n",
       "      <td>7.982991</td>\n",
       "      <td>7.985836</td>\n",
       "      <td>-45.149774</td>\n",
       "      <td>-45.029628</td>\n",
       "      <td>-45.030469</td>\n",
       "      <td>-45.149774</td>\n",
       "    </tr>\n",
       "    <tr>\n",
       "      <th>3</th>\n",
       "      <td>252</td>\n",
       "      <td>4</td>\n",
       "      <td>K213</td>\n",
       "      <td>62002.33849</td>\n",
       "      <td>901.175</td>\n",
       "      <td>2028-08-19 08:07:25.536000</td>\n",
       "      <td>7.60534</td>\n",
       "      <td>-45.108231</td>\n",
       "      <td>9.889758</td>\n",
       "      <td>-43.909362</td>\n",
       "      <td>0.000000</td>\n",
       "      <td>7.809069</td>\n",
       "      <td>7.806899</td>\n",
       "      <td>7.984775</td>\n",
       "      <td>7.987336</td>\n",
       "      <td>-45.297976</td>\n",
       "      <td>-45.175284</td>\n",
       "      <td>-45.175660</td>\n",
       "      <td>-45.297976</td>\n",
       "    </tr>\n",
       "    <tr>\n",
       "      <th>4</th>\n",
       "      <td>252</td>\n",
       "      <td>2</td>\n",
       "      <td>K213</td>\n",
       "      <td>62002.33849</td>\n",
       "      <td>901.175</td>\n",
       "      <td>2028-08-19 08:07:25.536000</td>\n",
       "      <td>7.60534</td>\n",
       "      <td>-45.108231</td>\n",
       "      <td>9.889758</td>\n",
       "      <td>-43.909362</td>\n",
       "      <td>0.000000</td>\n",
       "      <td>7.613938</td>\n",
       "      <td>7.613531</td>\n",
       "      <td>7.790317</td>\n",
       "      <td>7.791102</td>\n",
       "      <td>-45.123302</td>\n",
       "      <td>-45.003435</td>\n",
       "      <td>-45.003995</td>\n",
       "      <td>-45.123302</td>\n",
       "    </tr>\n",
       "    <tr>\n",
       "      <th>...</th>\n",
       "      <td>...</td>\n",
       "      <td>...</td>\n",
       "      <td>...</td>\n",
       "      <td>...</td>\n",
       "      <td>...</td>\n",
       "      <td>...</td>\n",
       "      <td>...</td>\n",
       "      <td>...</td>\n",
       "      <td>...</td>\n",
       "      <td>...</td>\n",
       "      <td>...</td>\n",
       "      <td>...</td>\n",
       "      <td>...</td>\n",
       "      <td>...</td>\n",
       "      <td>...</td>\n",
       "      <td>...</td>\n",
       "      <td>...</td>\n",
       "      <td>...</td>\n",
       "      <td>...</td>\n",
       "    </tr>\n",
       "    <tr>\n",
       "      <th>94603</th>\n",
       "      <td>36827</td>\n",
       "      <td>11</td>\n",
       "      <td>K213</td>\n",
       "      <td>62727.81100</td>\n",
       "      <td>901.175</td>\n",
       "      <td>2030-08-14 19:27:50.400000</td>\n",
       "      <td>12.26878</td>\n",
       "      <td>-42.911312</td>\n",
       "      <td>9.889758</td>\n",
       "      <td>-43.909362</td>\n",
       "      <td>715.068493</td>\n",
       "      <td>12.082352</td>\n",
       "      <td>12.093541</td>\n",
       "      <td>12.269656</td>\n",
       "      <td>12.258808</td>\n",
       "      <td>-42.910830</td>\n",
       "      <td>-42.791512</td>\n",
       "      <td>-42.806286</td>\n",
       "      <td>-42.926056</td>\n",
       "    </tr>\n",
       "    <tr>\n",
       "      <th>94604</th>\n",
       "      <td>36827</td>\n",
       "      <td>9</td>\n",
       "      <td>K213</td>\n",
       "      <td>62727.81100</td>\n",
       "      <td>901.175</td>\n",
       "      <td>2030-08-14 19:27:50.400000</td>\n",
       "      <td>12.26878</td>\n",
       "      <td>-42.911312</td>\n",
       "      <td>9.889758</td>\n",
       "      <td>-43.909362</td>\n",
       "      <td>715.068493</td>\n",
       "      <td>12.848778</td>\n",
       "      <td>12.843145</td>\n",
       "      <td>12.670127</td>\n",
       "      <td>12.675964</td>\n",
       "      <td>-42.819250</td>\n",
       "      <td>-42.937610</td>\n",
       "      <td>-42.920811</td>\n",
       "      <td>-42.804339</td>\n",
       "    </tr>\n",
       "    <tr>\n",
       "      <th>94605</th>\n",
       "      <td>36827</td>\n",
       "      <td>10</td>\n",
       "      <td>K213</td>\n",
       "      <td>62727.81100</td>\n",
       "      <td>901.175</td>\n",
       "      <td>2030-08-14 19:27:50.400000</td>\n",
       "      <td>12.26878</td>\n",
       "      <td>-42.911312</td>\n",
       "      <td>9.889758</td>\n",
       "      <td>-43.909362</td>\n",
       "      <td>715.068493</td>\n",
       "      <td>12.068393</td>\n",
       "      <td>12.080054</td>\n",
       "      <td>12.257936</td>\n",
       "      <td>12.246664</td>\n",
       "      <td>-43.057703</td>\n",
       "      <td>-42.935745</td>\n",
       "      <td>-42.951082</td>\n",
       "      <td>-43.073085</td>\n",
       "    </tr>\n",
       "    <tr>\n",
       "      <th>94606</th>\n",
       "      <td>36827</td>\n",
       "      <td>15</td>\n",
       "      <td>K213</td>\n",
       "      <td>62727.81100</td>\n",
       "      <td>901.175</td>\n",
       "      <td>2030-08-14 19:27:50.400000</td>\n",
       "      <td>12.26878</td>\n",
       "      <td>-42.911312</td>\n",
       "      <td>9.889758</td>\n",
       "      <td>-43.909362</td>\n",
       "      <td>715.068493</td>\n",
       "      <td>12.085811</td>\n",
       "      <td>12.073106</td>\n",
       "      <td>11.898920</td>\n",
       "      <td>11.912090</td>\n",
       "      <td>-42.686838</td>\n",
       "      <td>-42.803515</td>\n",
       "      <td>-42.789682</td>\n",
       "      <td>-42.671849</td>\n",
       "    </tr>\n",
       "    <tr>\n",
       "      <th>94607</th>\n",
       "      <td>36827</td>\n",
       "      <td>14</td>\n",
       "      <td>K213</td>\n",
       "      <td>62727.81100</td>\n",
       "      <td>901.175</td>\n",
       "      <td>2030-08-14 19:27:50.400000</td>\n",
       "      <td>12.26878</td>\n",
       "      <td>-42.911312</td>\n",
       "      <td>9.889758</td>\n",
       "      <td>-43.909362</td>\n",
       "      <td>715.068493</td>\n",
       "      <td>11.886067</td>\n",
       "      <td>11.899151</td>\n",
       "      <td>12.074758</td>\n",
       "      <td>12.061979</td>\n",
       "      <td>-42.920826</td>\n",
       "      <td>-42.801363</td>\n",
       "      <td>-42.815676</td>\n",
       "      <td>-42.936005</td>\n",
       "    </tr>\n",
       "  </tbody>\n",
       "</table>\n",
       "<p>94608 rows × 19 columns</p>\n",
       "</div>"
      ],
      "text/plain": [
       "       POINTING  SCA FILTER          MJD  EXPTIME                    DATE-OBS  \\\n",
       "0           252   16   K213  62002.33849  901.175  2028-08-19 08:07:25.536000   \n",
       "1           252   12   K213  62002.33849  901.175  2028-08-19 08:07:25.536000   \n",
       "2           252    5   K213  62002.33849  901.175  2028-08-19 08:07:25.536000   \n",
       "3           252    4   K213  62002.33849  901.175  2028-08-19 08:07:25.536000   \n",
       "4           252    2   K213  62002.33849  901.175  2028-08-19 08:07:25.536000   \n",
       "...         ...  ...    ...          ...      ...                         ...   \n",
       "94603     36827   11   K213  62727.81100  901.175  2030-08-14 19:27:50.400000   \n",
       "94604     36827    9   K213  62727.81100  901.175  2030-08-14 19:27:50.400000   \n",
       "94605     36827   10   K213  62727.81100  901.175  2030-08-14 19:27:50.400000   \n",
       "94606     36827   15   K213  62727.81100  901.175  2030-08-14 19:27:50.400000   \n",
       "94607     36827   14   K213  62727.81100  901.175  2030-08-14 19:27:50.400000   \n",
       "\n",
       "       EXP CENTER- RA  EXP CENTER- DEC  MAJOR ROT AXS- RA  MAJOR ROT AXS- DEC  \\\n",
       "0             7.60534       -45.108231           9.889758          -43.909362   \n",
       "1             7.60534       -45.108231           9.889758          -43.909362   \n",
       "2             7.60534       -45.108231           9.889758          -43.909362   \n",
       "3             7.60534       -45.108231           9.889758          -43.909362   \n",
       "4             7.60534       -45.108231           9.889758          -43.909362   \n",
       "...               ...              ...                ...                 ...   \n",
       "94603        12.26878       -42.911312           9.889758          -43.909362   \n",
       "94604        12.26878       -42.911312           9.889758          -43.909362   \n",
       "94605        12.26878       -42.911312           9.889758          -43.909362   \n",
       "94606        12.26878       -42.911312           9.889758          -43.909362   \n",
       "94607        12.26878       -42.911312           9.889758          -43.909362   \n",
       "\n",
       "       MAJOR ROT ANGLE        RA1        RA2        RA3        RA4       DEC1  \\\n",
       "0             0.000000   7.029217   7.032768   7.209526   7.206366 -45.363696   \n",
       "1             0.000000   7.596622   7.595908   7.420693   7.421770 -44.874148   \n",
       "2             0.000000   7.809333   7.806866   7.982991   7.985836 -45.149774   \n",
       "3             0.000000   7.809069   7.806899   7.984775   7.987336 -45.297976   \n",
       "4             0.000000   7.613938   7.613531   7.790317   7.791102 -45.123302   \n",
       "...                ...        ...        ...        ...        ...        ...   \n",
       "94603       715.068493  12.082352  12.093541  12.269656  12.258808 -42.910830   \n",
       "94604       715.068493  12.848778  12.843145  12.670127  12.675964 -42.819250   \n",
       "94605       715.068493  12.068393  12.080054  12.257936  12.246664 -43.057703   \n",
       "94606       715.068493  12.085811  12.073106  11.898920  11.912090 -42.686838   \n",
       "94607       715.068493  11.886067  11.899151  12.074758  12.061979 -42.920826   \n",
       "\n",
       "            DEC2       DEC3       DEC4  \n",
       "0     -45.240500 -45.240019 -45.363696  \n",
       "1     -44.991030 -44.991469 -44.874148  \n",
       "2     -45.029628 -45.030469 -45.149774  \n",
       "3     -45.175284 -45.175660 -45.297976  \n",
       "4     -45.003435 -45.003995 -45.123302  \n",
       "...          ...        ...        ...  \n",
       "94603 -42.791512 -42.806286 -42.926056  \n",
       "94604 -42.937610 -42.920811 -42.804339  \n",
       "94605 -42.935745 -42.951082 -43.073085  \n",
       "94606 -42.803515 -42.789682 -42.671849  \n",
       "94607 -42.801363 -42.815676 -42.936005  \n",
       "\n",
       "[94608 rows x 19 columns]"
      ]
     },
     "execution_count": 81,
     "metadata": {},
     "output_type": "execute_result"
    }
   ],
   "source": [
    "result_df"
   ]
  },
  {
   "cell_type": "markdown",
   "id": "da6b7a19-4948-4788-b8e9-c2e346ad7d93",
   "metadata": {},
   "source": [
    "**Change the file name.**"
   ]
  },
  {
   "cell_type": "code",
   "execution_count": 82,
   "id": "b470e2d9-bd3f-4560-9e3e-08ff6fa7558e",
   "metadata": {},
   "outputs": [],
   "source": [
    "result_df.to_csv('K213_files_data.csv', index=False)"
   ]
  },
  {
   "cell_type": "code",
   "execution_count": null,
   "id": "beb5ac20-fcca-405b-a62e-11a1b9211bd9",
   "metadata": {},
   "outputs": [],
   "source": []
  }
 ],
 "metadata": {
  "kernelspec": {
   "display_name": "Python 3 (ipykernel)",
   "language": "python",
   "name": "python3"
  },
  "language_info": {
   "codemirror_mode": {
    "name": "ipython",
    "version": 3
   },
   "file_extension": ".py",
   "mimetype": "text/x-python",
   "name": "python",
   "nbconvert_exporter": "python",
   "pygments_lexer": "ipython3",
   "version": "3.10.14"
  }
 },
 "nbformat": 4,
 "nbformat_minor": 5
}
