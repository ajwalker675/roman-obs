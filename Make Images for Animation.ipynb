{
 "cells": [
  {
   "cell_type": "code",
   "execution_count": 1,
   "id": "c71191aa-9e98-40be-b190-ebdf8e69e31f",
   "metadata": {},
   "outputs": [],
   "source": [
    "import numpy as np\n",
    "import pandas as pd\n",
    "import healpy as hp\n",
    "import matplotlib\n",
    "from matplotlib import pyplot as plt"
   ]
  },
  {
   "cell_type": "code",
   "execution_count": 2,
   "id": "b598d512-e579-45f4-9c31-eb61a68ff8ba",
   "metadata": {},
   "outputs": [],
   "source": [
    "df = pd.read_csv('Z087_files_data.csv')\n",
    "df['MJD']= df['MJD'].astype(int)\n",
    "days = np.unique(df['MJD'].values)"
   ]
  },
  {
   "cell_type": "code",
   "execution_count": 3,
   "id": "bb81a022-6349-4724-b8e8-8ffc686fd4fd",
   "metadata": {},
   "outputs": [],
   "source": [
    "def get_vertices(index):\n",
    "    ra1 = df['RA1'][index]\n",
    "    ra2 = df['RA2'][index]\n",
    "    ra3 = df['RA3'][index]\n",
    "    ra4 = df['RA4'][index]\n",
    "    dec1 = df['DEC1'][index]\n",
    "    dec2 = df['DEC2'][index]\n",
    "    dec3 = df['DEC3'][index]\n",
    "    dec4 = df['DEC4'][index]\n",
    "    def ra_dec_to_theta_phi(ra, dec):\n",
    "        ra_rad = np.radians(ra)\n",
    "        dec_rad = np.radians(dec)\n",
    "        theta = np.pi / 2 - dec_rad\n",
    "        phi = ra_rad\n",
    "        return theta, phi\n",
    "    theta1, phi1 = ra_dec_to_theta_phi(ra1, dec1)\n",
    "    theta2, phi2 = ra_dec_to_theta_phi(ra2, dec2)\n",
    "    theta3, phi3 = ra_dec_to_theta_phi(ra3, dec3)\n",
    "    theta4, phi4 = ra_dec_to_theta_phi(ra4, dec4)\n",
    "    vec1 = hp.ang2vec(theta1, phi1)\n",
    "    vec2 = hp.ang2vec(theta2, phi2)\n",
    "    vec3 = hp.ang2vec(theta3, phi3)\n",
    "    vec4 = hp.ang2vec(theta4, phi4)\n",
    "    vertices = np.array([vec1, vec2, vec3, vec4])\n",
    "    return vertices"
   ]
  },
  {
   "cell_type": "code",
   "execution_count": 4,
   "id": "f9512801-f1f4-4932-9bd0-46bd7909765e",
   "metadata": {},
   "outputs": [],
   "source": [
    "#indices = []\n",
    "for i in range(0, len(days)):\n",
    "    day1 = days[i]\n",
    "    obs_rows = df[(df['MJD'] == day1)].index\n",
    "    #indices = np.append(indices, obs_rows)\n",
    "    NSIDE = 4096\n",
    "    NPIX  = hp.nside2npix(NSIDE)\n",
    "    ipix_box_list = []\n",
    "    for index in obs_rows:\n",
    "        vertices = get_vertices(index)\n",
    "        ipix_box_single = hp.query_polygon(nside=NSIDE, vertices=vertices, inclusive=False)\n",
    "        ipix_box_list.append(ipix_box_single)\n",
    "    ipix_box = np.concatenate(ipix_box_list)\n",
    "    rot = [9.7, -44]\n",
    "    m = np.zeros(hp.nside2npix(NSIDE))\n",
    "    counts = np.bincount(ipix_box, minlength=len(m))\n",
    "    m[:len(counts)] = counts\n",
    "    hp.gnomview(m, rot=rot,title=\"Sky Location of Roman Pictures-Z087 Band\", reso = 1.6, xsize = 200)\n",
    "    plt.savefig(f'/mnt/c/Users/alexj/Downloads/Z087 images/Z087_plot_{i+1}.png')\n",
    "    plt.close()"
   ]
  },
  {
   "cell_type": "code",
   "execution_count": null,
   "id": "19e6b57b-e4e1-4dda-94a2-ea146b5cac08",
   "metadata": {},
   "outputs": [],
   "source": []
  }
 ],
 "metadata": {
  "kernelspec": {
   "display_name": "Python 3 (ipykernel)",
   "language": "python",
   "name": "python3"
  },
  "language_info": {
   "codemirror_mode": {
    "name": "ipython",
    "version": 3
   },
   "file_extension": ".py",
   "mimetype": "text/x-python",
   "name": "python",
   "nbconvert_exporter": "python",
   "pygments_lexer": "ipython3",
   "version": "3.10.14"
  }
 },
 "nbformat": 4,
 "nbformat_minor": 5
}
